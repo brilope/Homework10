{
 "cells": [
  {
   "cell_type": "code",
   "execution_count": 47,
   "metadata": {},
   "outputs": [
    {
     "name": "stderr",
     "output_type": "stream",
     "text": [
      "[nltk_data] Downloading package stopwords to\n",
      "[nltk_data]     C:\\Users\\chemi\\AppData\\Roaming\\nltk_data...\n",
      "[nltk_data]   Package stopwords is already up-to-date!\n",
      "[nltk_data] Downloading package punkt to\n",
      "[nltk_data]     C:\\Users\\chemi\\AppData\\Roaming\\nltk_data...\n",
      "[nltk_data]   Package punkt is already up-to-date!\n",
      "[nltk_data] Downloading package wordnet to\n",
      "[nltk_data]     C:\\Users\\chemi\\AppData\\Roaming\\nltk_data...\n",
      "[nltk_data]   Package wordnet is already up-to-date!\n",
      "[nltk_data] Downloading package averaged_perceptron_tagger_eng to\n",
      "[nltk_data]     C:\\Users\\chemi\\AppData\\Roaming\\nltk_data...\n",
      "[nltk_data]   Package averaged_perceptron_tagger_eng is already up-to-\n",
      "[nltk_data]       date!\n"
     ]
    },
    {
     "data": {
      "text/plain": [
       "True"
      ]
     },
     "execution_count": 47,
     "metadata": {},
     "output_type": "execute_result"
    }
   ],
   "source": [
    "import nltk\n",
    "from nltk.tokenize import word_tokenize\n",
    "from nltk.stem import WordNetLemmatizer, PorterStemmer\n",
    "from nltk.util import ngrams\n",
    "from collections import Counter\n",
    "from nltk import pos_tag, ne_chunk\n",
    "nltk.download('stopwords')\n",
    "nltk.download('punkt')\n",
    "nltk.download('wordnet')\n",
    "nltk.download('averaged_perceptron_tagger_eng')"
   ]
  },
  {
   "cell_type": "code",
   "execution_count": 36,
   "metadata": {},
   "outputs": [],
   "source": [
    "with open(\"C:/Users/chemi/OneDrive/Coding/Martin.txt\", 'r') as file:\n",
    "    martin = file.read()\n",
    "with open(\"C:/Users/chemi/OneDrive/Coding/RJ_Lovecraft.txt\", 'r') as file:\n",
    "    lovecraft = file.read()\n",
    "with open(\"C:/Users/chemi/OneDrive/Coding/RJ_Martin.txt\", 'r') as file:\n",
    "    rj_martin = file.read()\n",
    "with open(\"C:/Users/chemi/OneDrive/Coding/RJ_Tolkein.txt\", 'r') as file:\n",
    "    tolkien = file.read()"
   ]
  },
  {
   "cell_type": "code",
   "execution_count": 37,
   "metadata": {},
   "outputs": [],
   "source": [
    "token_rj_martin = word_tokenize(rj_martin)\n",
    "token_lovecraft = word_tokenize(lovecraft)\n",
    "token_tolkein = word_tokenize(tolkien)\n",
    "token_martin = word_tokenize(martin)"
   ]
  },
  {
   "cell_type": "code",
   "execution_count": 38,
   "metadata": {},
   "outputs": [],
   "source": [
    "stemmer = PorterStemmer()\n",
    "stemmed_rj_martin = [stemmer.stem(word) for word in token_rj_martin]\n",
    "stemmed_lovecraft = [stemmer.stem(word) for word in token_lovecraft]\n",
    "stemmed_tolkein = [stemmer.stem(word) for word in token_tolkein]\n",
    "stemmed_martin = [stemmer.stem(word) for word in token_martin]"
   ]
  },
  {
   "cell_type": "code",
   "execution_count": 39,
   "metadata": {},
   "outputs": [],
   "source": [
    "lemmatizer = WordNetLemmatizer()\n",
    "lemmatized_rj_martin = [lemmatizer.lemmatize(word) for word in token_rj_martin]\n",
    "lemmatized_lovecraft = [lemmatizer.lemmatize(word) for word in token_lovecraft]\n",
    "lemmatized_tolkein = [lemmatizer.lemmatize(word) for word in token_tolkein]\n",
    "lemmatized_martin = [lemmatizer.lemmatize(word) for word in token_martin]"
   ]
  },
  {
   "cell_type": "code",
   "execution_count": 40,
   "metadata": {},
   "outputs": [
    {
     "name": "stdout",
     "output_type": "stream",
     "text": [
      "20 most common in Text 1:  [('the', 36), (',', 31), ('of', 26), ('a', 17), ('in', 14), ('.', 14), ('and', 12), ('that', 12), ('to', 7), ('cosmic', 7), ('their', 6), ('eldritch', 5), ('fate', 5), ('amidst', 5), ('juliet', 5), ('romeo', 5), ('by', 5), ('ancient', 4), ('an', 4), ('mortal', 4)]\n",
      "20 most common in Text 2:  [(',', 46), ('the', 42), ('of', 34), ('.', 16), ('a', 15), ('and', 12), ('to', 9), ('in', 9), ('juliet', 7), ('by', 6), ('verona', 5), ('amidst', 5), ('romeo', 5), ('land', 4), ('love', 4), ('woven', 3), ('with', 3), ('fate', 3), ('hi', 3), ('their', 3)]\n",
      "20 most common in Text 3:  [(',', 29), ('of', 27), ('the', 24), ('a', 16), ('and', 14), ('in', 14), ('.', 13), ('hous', 5), ('amidst', 5), ('her', 5), ('romeo', 5), ('juliet', 4), ('their', 4), ('love', 4), ('to', 4), ('with', 3), ('passion', 3), ('by', 3), ('between', 3), ('fate', 3)]\n",
      "20 most common in Text 4:  [(',', 313), ('the', 312), ('.', 295), ('of', 116), ('a', 84), ('and', 84), ('hi', 75), ('’', 58), ('their', 56), ('in', 55), ('to', 54), ('they', 50), ('her', 47), (\"''\", 45), ('``', 43), ('wa', 39), ('s', 35), ('she', 33), ('aldric', 32), ('as', 32)]\n"
     ]
    }
   ],
   "source": [
    "most_common_rj_martin = Counter(stemmed_rj_martin).most_common(20)\n",
    "most_common_lovecraft = Counter(stemmed_lovecraft).most_common(20)\n",
    "most_common_tolkein = Counter(stemmed_tolkein).most_common(20)\n",
    "most_common_martin = Counter(stemmed_martin).most_common(20)\n",
    "print(\"20 most common in Text 1: \", most_common_lovecraft)\n",
    "print(\"20 most common in Text 2: \", most_common_tolkein)\n",
    "print(\"20 most common in Text 3: \", most_common_rj_martin)\n",
    "print(\"20 most common in Text 4: \", most_common_martin)"
   ]
  },
  {
   "cell_type": "code",
   "execution_count": 41,
   "metadata": {},
   "outputs": [
    {
     "name": "stderr",
     "output_type": "stream",
     "text": [
      "[nltk_data] Downloading package maxent_ne_chunker to\n",
      "[nltk_data]     C:\\Users\\chemi\\AppData\\Roaming\\nltk_data...\n",
      "[nltk_data]   Package maxent_ne_chunker is already up-to-date!\n",
      "[nltk_data] Downloading package words to\n",
      "[nltk_data]     C:\\Users\\chemi\\AppData\\Roaming\\nltk_data...\n",
      "[nltk_data]   Package words is already up-to-date!\n",
      "[nltk_data] Downloading package maxent_ne_chunker_tab to\n",
      "[nltk_data]     C:\\Users\\chemi\\AppData\\Roaming\\nltk_data...\n",
      "[nltk_data]   Package maxent_ne_chunker_tab is already up-to-date!\n"
     ]
    },
    {
     "name": "stdout",
     "output_type": "stream",
     "text": [
      "Named entities in Text 1:  15\n",
      "Named entities in Text 2:  23\n",
      "Named entities in Text 3:  14\n",
      "Named entities in Text 4:  179\n"
     ]
    }
   ],
   "source": [
    "nltk.download('maxent_ne_chunker')\n",
    "nltk.download('words')\n",
    "nltk.download('maxent_ne_chunker_tab')\n",
    "\n",
    "def named_entities(text):\n",
    "    words = word_tokenize(text)\n",
    "    tagged = pos_tag(words)\n",
    "    chunks = ne_chunk(tagged)\n",
    "    named_entities = [chunk for chunk in chunks if hasattr(chunk, 'label')]\n",
    "    return len(named_entities)\n",
    "\n",
    "named_entities_rj_martin = named_entities(rj_martin)\n",
    "named_entities_lovecraft = named_entities(lovecraft)\n",
    "named_entities_tolkein = named_entities(tolkien)\n",
    "named_entities_martin = named_entities(martin)\n",
    "\n",
    "print(\"Named entities in Text 1: \", named_entities_lovecraft)\n",
    "print(\"Named entities in Text 2: \", named_entities_tolkein)\n",
    "print(\"Named entities in Text 3: \", named_entities_rj_martin)\n",
    "print(\"Named entities in Text 4: \", named_entities_martin)"
   ]
  },
  {
   "cell_type": "code",
   "execution_count": null,
   "metadata": {},
   "outputs": [],
   "source": [
    "#Text 1 has something to do with an ancient eldritch cosmic horror, text 2 is about a hobbit and a ring, and text 3 is about a medieval fantasy world. All the texts have juliet and romeo in them."
   ]
  },
  {
   "cell_type": "code",
   "execution_count": 46,
   "metadata": {},
   "outputs": [],
   "source": [
    "trigram_lovecraft = ngrams(token_lovecraft, 3)\n",
    "trigram_tolkein = ngrams(token_tolkein, 3)\n",
    "trigram_rj_martin = ngrams(token_rj_martin, 3)\n",
    "trigram_martin = ngrams(token_martin, 3)"
   ]
  },
  {
   "cell_type": "code",
   "execution_count": 48,
   "metadata": {},
   "outputs": [
    {
     "name": "stdout",
     "output_type": "stream",
     "text": [
      "20 most common trigrams in Text 1:  [(('Romeo', 'and', 'Juliet'), 3), (('city', 'of', 'Verona'), 2), (('the', 'whispers', 'of'), 2), ((',', 'bore', 'witness'), 2), (('bore', 'witness', 'to'), 2), (('witness', 'to', 'a'), 2), (('Juliet', ',', 'a'), 2), (('of', 'a', 'fate'), 2), (('.', 'As', 'the'), 2), ((',', 'Romeo', 'and'), 2), (('embrace', 'of', 'a'), 2), (('and', 'Juliet', ','), 2), (('ensnared', 'in', 'the'), 2), ((',', 'a', 'tale'), 2), (('a', 'tale', 'of'), 2), (('tale', 'of', 'love'), 2), (('\\ufeffIn', 'the', 'hallowed'), 1), (('the', 'hallowed', 'city'), 1), (('hallowed', 'city', 'of'), 1), (('of', 'Verona', ','), 1)]\n",
      "20 most common trigrams in Text 2:  [(('lands', 'of', 'Verona'), 3), (('.', 'Romeo', ','), 3), (('of', 'Verona', ','), 2), (('of', 'Verona', '.'), 2), (('the', 'wisdom', 'of'), 2), (('wisdom', 'of', 'the'), 2), (('the', 'lands', 'of'), 2), (('the', 'eternal', 'night'), 2), (('\\ufeffIn', 'the', 'verdant'), 1), (('the', 'verdant', 'lands'), 1), (('verdant', 'lands', 'of'), 1), (('Verona', ',', 'nestled'), 1), ((',', 'nestled', 'among'), 1), (('nestled', 'among', 'rolling'), 1), (('among', 'rolling', 'hills'), 1), (('rolling', 'hills', 'and'), 1), (('hills', 'and', 'ancient'), 1), (('and', 'ancient', 'woods'), 1), (('ancient', 'woods', ','), 1), (('woods', ',', 'there'), 1)]\n",
      "20 most common trigrams in Text 3:  [(('of', 'Verona', ','), 2), (('.', 'In', 'a'), 2), (('\\ufeffIn', 'the', 'sprawling'), 1), (('the', 'sprawling', 'city'), 1), (('sprawling', 'city', 'of'), 1), (('city', 'of', 'Verona'), 1), (('Verona', ',', 'where'), 1), ((',', 'where', 'the'), 1), (('where', 'the', 'towering'), 1), (('the', 'towering', 'walls'), 1), (('towering', 'walls', 'of'), 1), (('walls', 'of', 'House'), 1), (('of', 'House', 'Capulet'), 1), (('House', 'Capulet', 'and'), 1), (('Capulet', 'and', 'House'), 1), (('and', 'House', 'Montague'), 1), (('House', 'Montague', 'loomed'), 1), (('Montague', 'loomed', 'over'), 1), (('loomed', 'over', 'bustling'), 1), (('over', 'bustling', 'streets'), 1)]\n",
      "20 most common trigrams in Text 4:  [((',', 'their', 'eyes'), 7), (('Aldric', '’', 's'), 7), (('Alysanne', '’', 's'), 7), (('They', '’', 're'), 6), (('.', 'She', 'had'), 6), (('the', 'weight', 'of'), 5), (('.', 'It', 'was'), 5), ((',', 'his', 'voice'), 5), (('.', '``', 'We'), 5), (('.', \"''\", 'Edric'), 5), ((',', \"''\", 'Aldric'), 5), ((\"''\", 'Aldric', '’'), 5), (('.', 'Alysanne', '’'), 5), (('.', 'The', 'Nightborn'), 5), ((',', 'and', 'the'), 4), ((',', 'his', 'eyes'), 4), (('.', 'At', 'the'), 4), (('the', 'hilt', 'of'), 4), (('Torran', '’', 's'), 4), (('.', 'And', 'they'), 4)]\n"
     ]
    }
   ],
   "source": [
    "common_trigrams_lovecraft = Counter(trigram_lovecraft).most_common(20)\n",
    "common_trigrams_tolkein = Counter(trigram_tolkein).most_common(20)\n",
    "common_trigrams_rj_martin = Counter(trigram_rj_martin).most_common(20)\n",
    "common_trigrams_martin = Counter(trigram_martin).most_common(20)\n",
    "\n",
    "print(\"20 most common trigrams in Text 1: \", common_trigrams_lovecraft)\n",
    "print(\"20 most common trigrams in Text 2: \", common_trigrams_tolkein)\n",
    "print(\"20 most common trigrams in Text 3: \", common_trigrams_rj_martin)\n",
    "print(\"20 most common trigrams in Text 4: \", common_trigrams_martin)"
   ]
  },
  {
   "cell_type": "code",
   "execution_count": 49,
   "metadata": {},
   "outputs": [
    {
     "name": "stdout",
     "output_type": "stream",
     "text": [
      "Similarity between Text 1 and Text 4:  9\n",
      "Similarity between Text 2 and Text 4:  8\n",
      "Similarity between Text 3 and Text 4:  14\n"
     ]
    }
   ],
   "source": [
    "def compare_trigrams(text1, text2):\n",
    "    trigrams1 = ngrams(word_tokenize(text1), 3)\n",
    "    trigrams2 = ngrams(word_tokenize(text2), 3)\n",
    "    common_trigrams = Counter(trigrams1) & Counter(trigrams2)\n",
    "    return len(common_trigrams)\n",
    "\n",
    "similarity_lovecraft_martin = compare_trigrams(lovecraft, martin)\n",
    "similarity_tolkein_martin = compare_trigrams(tolkien, martin)\n",
    "similarity_rj_martin_martin = compare_trigrams(rj_martin, martin)\n",
    "\n",
    "print(\"Similarity between Text 1 and Text 4: \", similarity_lovecraft_martin)\n",
    "print(\"Similarity between Text 2 and Text 4: \", similarity_tolkein_martin)\n",
    "print(\"Similarity between Text 3 and Text 4: \", similarity_rj_martin_martin)"
   ]
  },
  {
   "cell_type": "code",
   "execution_count": null,
   "metadata": {},
   "outputs": [],
   "source": [
    "#Based on the similarities, text 1 and text 4 are the most similar. Text 2 and text 4 are the least similar. Text 3 and text 4 are in the middle. Text 3 was written by RJ Martin so that means that text 4 was also written by RJ Martin. Text 1 was written by Lovecraft and text 2 was written by Tolkein."
   ]
  }
 ],
 "metadata": {
  "kernelspec": {
   "display_name": "base",
   "language": "python",
   "name": "python3"
  },
  "language_info": {
   "codemirror_mode": {
    "name": "ipython",
    "version": 3
   },
   "file_extension": ".py",
   "mimetype": "text/x-python",
   "name": "python",
   "nbconvert_exporter": "python",
   "pygments_lexer": "ipython3",
   "version": "3.12.7"
  }
 },
 "nbformat": 4,
 "nbformat_minor": 2
}
